{
 "cells": [
  {
   "cell_type": "code",
   "execution_count": 2,
   "metadata": {},
   "outputs": [],
   "source": [
    "import numpy as np\n",
    "import matplotlib.pyplot as plt"
   ]
  },
  {
   "cell_type": "code",
   "execution_count": 131,
   "metadata": {},
   "outputs": [
    {
     "name": "stdout",
     "output_type": "stream",
     "text": [
      "[ 15   5  -9  16  12  15  15   9 -10  -7   3   6  -4  -7  17 -10  -4  14\n",
      "  -8  17  14  -1  -7  17 -10   7  -5   7 -10   9  16  14  16   6  10  11\n",
      "  18   4  12 -10  -9   6   1   4  -2  -9  16  -3   7  -1  18  -9   1  -8\n",
      "  15  -7   3  19   8  -4  -5  -3  -8  -5   4  -1  18   0  -2  -7  11  -3\n",
      "  15  19  13   9 -10   4  13  -8  11  16  -8  11   7   2  18  -5  -1  -2\n",
      "  -6  -2   0  -5  16  17  -6   5  14  -5  10   2   4  11  -9   9   5  12\n",
      "  -9   8  -8   0  15  -7   9  12  -3   1   5  -6   5   9  -7  13  17 -10\n",
      "   0  -9  -5   7  13  -1  -8  -2  15   1  13  19   8   6   2   0   7  -9\n",
      "  -8   7  18  17  -7  -2   3  -2  -4   0  -9  18   5  17   0  10  16   7\n",
      "  13  -2  16  14  11  -3  -7   5   2   2  18  13  -9  -6  16   8  -5   2\n",
      "  15  13  10  -5  14   3   0   8  -6  -5  19  19   6   7  19  -1 -10  19\n",
      "   7   0  -6  14   9  12  -6  14  19   2  13  14  10  18  19   8 -10  -3\n",
      "   7   4   8  -1  -2   1  10  17  16 -10  -8  14  -6  -2  -2  12   1   7\n",
      "   3   1   9   2  -9  -1  18  -7   4   3  17   7   8  -9   0  12   3   7\n",
      "  19  13  14  18  17  -7   8   8  -4  -5  17   2   8  -5  -7  -7  14  10\n",
      "  -6  -8  18  12   8  -4   9  -1  13  -1   9  12   7   9  -8  19  10   5\n",
      "  11  -1  -7   8  -7  13  10  -6   8  -4   4   9   5  -8  -9  -1  -4  17\n",
      "  13  19  -5   3  -5   0   1  19  -9  -7   2  -8  16  19   7  -5   9  19\n",
      "   7  12  12  15   9  13  -6  -3   7   3   9  -6  -2  -9   1  -2   7  -2\n",
      "  -2 -10  19  10  12   9   3  13  14   2  -5   4  -8  18   0  12  12   9\n",
      "  19  11   3   2   5  17  16  11  15  -1   8  -7  -6  -1  -7   1  -5   3\n",
      "  -4  10  14  -5  15   1  -3  12  17  -6  16  17  10  -4  12  -5   8  -5\n",
      "  15 -10  17  14   5  -6  -4   1  14   7  -3  11   0  -3  15   5  -6   7\n",
      "   4  19  15  15  14   7  18   8   0  11  -3   9  19  17  15   8  -6   1\n",
      "   9  -9  18   4   6  17  -9  12  11   2  -9  14  -2   0  -1  15  13  11\n",
      "  19  -2   4   6   5  -3   4  -6   9   4  -3  -2  -5  16   2  -9  -2  14\n",
      "   3  11   4  -3  12  -2  17  18   2  11  15  -6  15  12   6   4   6  12\n",
      "  -8  14   0  -3  -2  19  -1   8   4   5  -1  -6   1  18  15  -8   0  -1\n",
      "  19  17   6   2   2  17  14   8 -10 -10  -3   5  12  -1   6  -2  -1   4\n",
      "  12  16  -5   7  -1   7   9  -6   3   8   8  -5  -3  17   3  -2  -1  -8\n",
      "  15  11  -8  16   1   4  16  -7   4  16  -2   0  14  -2   0  19  19   3\n",
      " -10  13  19  10  -9   6  18   0  -9  18  -8   1   1   0  -7  16  12   1\n",
      "   5  12   0  -3  -8  -6  11   6  11  15  19   0  -4  12  11  18  18  -9\n",
      "   0  -8  -8  -8  -9   6   3   8   7   8  -2  -7   9  14  -6  -3 -10  -5\n",
      "  17   7  19  15  17  -3   2  -9   3  -6  10   7  16   8  10   9  19   3\n",
      "   0  11  -1  12   0   7  -3   9   5  15  11  -5  -9   0  -7  11  -8  -9\n",
      "   7  -6  18  10   1  13  -3  -5  -3  -9  13   0   2  -3  -2   1   8   1\n",
      "  -3   2   4  -8  -2   7   4  10  -9  16  15  19   4  13  -9  -4  11  13\n",
      "  -4  -8   8  19  -3  -7   5  12  -1   7   4  -5   5  17  -9  -2  10   4\n",
      "  18  15   0   7  -9  14  -9  -8   0  19  18   1  19  -8  -4  16  -2   1\n",
      "   4  14  18  -8  -3   1   6  15  -1  10  -9   7  17  -7  -9  11   5  11\n",
      "   8   8  -2   2  -6  -5  -5   7  18   0  18  -5  -7   0  -1   2  13  19\n",
      "   4  -5   8  13   0   4   4   7  -4  -1  -3   0  -4  -3  -4   5  10  -1\n",
      "  -9  18  18  12  15  11   0  18   4 -10  -4  11  19  19  -4   5  13  16\n",
      "  -8  -7  13  11  -5   7  15   3  -1  18   5  19   8  14  10  15   1   6\n",
      "  -5  -3   4   5 -10  16 -10   7  18  18 -10  -6  13   1  18   7   4  14\n",
      " -10  -2   7  -1  18  -3  14  15  -7   8   6  11   6   3   7  19   1  13\n",
      "  -3   9  -1  -9  -3   2  14  11  10  15  12   4   0   2  11  19  -7   7\n",
      "  -4   0   6   0   7  14  16  -7  -2   3  18  -4  12  11  -2   4  -2  12\n",
      "  17   0  19  -8  13   5  16  18  -6  15  -8   9  -9  11  -7   6   8  12\n",
      "  17   4   7  -1  -9  15  -6  -4  -9  -8   0  17  -4 -10  13   9   2  19\n",
      "  -7 -10  -9  18  -5  19  -9  -2  -6  -8  12   6  17  16  -9  18  -7  -7\n",
      "  10   7  -9   6  15   7 -10   7  10   4  -2   0  15  -2   3  -4   4   2\n",
      "  19   7   5  19  15  19 -10  15  17  16  -8   4   7   4  14   7  19  17\n",
      "  -9  -7  -4  -8   5  13  -8 -10  17   6   0  12  12   8  19  15 -10  -2\n",
      "   0  14  -9  -7  -7  14  -7   7  13  -7]\n"
     ]
    }
   ],
   "source": [
    "n = 1000\n",
    "x = np.random.randint(low=-10, high=20, size=n)\n",
    "print(x)"
   ]
  },
  {
   "cell_type": "code",
   "execution_count": 132,
   "metadata": {},
   "outputs": [
    {
     "name": "stdout",
     "output_type": "stream",
     "text": [
      "4.582\n"
     ]
    }
   ],
   "source": [
    "popmean = np.mean(x)\n",
    "print(popmean)"
   ]
  },
  {
   "cell_type": "code",
   "execution_count": 184,
   "metadata": {},
   "outputs": [
    {
     "name": "stdout",
     "output_type": "stream",
     "text": [
      "popmean = 4.582\n",
      "sampmean = 4.97 \n",
      "\n",
      "[  8   9   1 -10   4  -9  -7  18  14  -1   6  17   0  -6  19  17  14  19\n",
      "   4 -10  19  -5   5  -7  -5   2  -6  18  -6  14   6  -3  -5   1  15 -10\n",
      "  -1  19   8  -1  10  -6  -8   3  19  -6  19  13  -8  10  11 -10   0  14\n",
      "   6  12   9  13  -1  12  -9   4   3  19  13   2  14   2  -8  -7   7  -2\n",
      "  19  19  -9  11   0   5  11   4  18   5  18   9   1   3   7   3   5   8\n",
      "  -9  19  -6   9 -10  -2  -4  19  16  13]\n"
     ]
    }
   ],
   "source": [
    "sample = np.random.choice(x, size=100, replace=False)\n",
    "sampmean = np.mean(sample)\n",
    "\n",
    "print(\"popmean =\", popmean)\n",
    "print(\"sampmean =\", sampmean, \"\\n\")\n",
    "print(sample)"
   ]
  },
  {
   "cell_type": "code",
   "execution_count": 404,
   "metadata": {},
   "outputs": [
    {
     "data": {
      "image/png": "[encoded data removed]",
      "text/plain": [
       "<Figure size 640x480 with 1 Axes>"
      ]
     },
     "metadata": {},
     "output_type": "display_data"
    }
   ],
   "source": [
    "xExp = 10000\n",
    "\n",
    "sample_means = np.zeros(xExp)\n",
    "for i in range(xExp):\n",
    "    sample = np.random.choice(x, size=100, replace=False)\n",
    "    sample_means[i] = np.mean(sample)\n",
    "\n",
    "plt.hist(sample_means, bins=40, density=True)\n",
    "plt.plot([popmean, popmean], [0, 0.4], 'm--')\n",
    "plt.ylabel('Count')\n",
    "plt.xlabel('Sample mean')\n",
    "plt.show()\n",
    " "
   ]
  }
 ],
 "metadata": {
  "kernelspec": {
   "display_name": "venv",
   "language": "python",
   "name": "python3"
  },
  "language_info": {
   "codemirror_mode": {
    "name": "ipython",
    "version": 3
   },
   "file_extension": ".py",
   "mimetype": "text/x-python",
   "name": "python",
   "nbconvert_exporter": "python",
   "pygments_lexer": "ipython3",
   "version": "3.12.7"
  }
 },
 "nbformat": 4,
 "nbformat_minor": 2
}
