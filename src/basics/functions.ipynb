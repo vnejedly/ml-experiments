{
 "cells": [
  {
   "cell_type": "code",
   "execution_count": 2,
   "metadata": {},
   "outputs": [],
   "source": [
    "import numpy as np\n",
    "import torch\n",
    "import torch.nn as nn\n",
    "import matplotlib.pyplot as plt"
   ]
  },
  {
   "cell_type": "code",
   "execution_count": 3,
   "metadata": {},
   "outputs": [
    {
     "name": "stdout",
     "output_type": "stream",
     "text": [
      "[2.41019603e-03 6.55159207e-03 1.78090737e-02 9.72342477e-01\n",
      " 8.86661569e-04]\n",
      "1.0000000000000002\n",
      "[2.81272884e-03 7.64578971e-03 2.56487671e-06 4.69773556e-08\n",
      " 1.53569791e-01 1.27697692e-07 1.53569791e-01 2.07834112e-02\n",
      " 6.35769372e-09 5.64951691e-02 1.53569791e-01 1.27697692e-07\n",
      " 2.81272884e-03 2.81272884e-03 6.35769372e-09 1.89520179e-05\n",
      " 4.17445974e-01 1.89520179e-05 2.56487671e-06 6.97205775e-06\n",
      " 7.64578971e-03 2.33886481e-09 6.35769372e-09 2.07834112e-02\n",
      " 2.56487671e-06]\n",
      "0.9999999999999999\n"
     ]
    }
   ],
   "source": [
    "def softmax(x: np.array) -> np.array:\n",
    "    return np.exp(x) / np.sum(np.exp(x), axis=0)\n",
    "\n",
    "z = np.array([1, 2, 3, 7, 0])\n",
    "sm = softmax(z)\n",
    "\n",
    "print(sm)\n",
    "print(np.sum(sm))\n",
    "\n",
    "z = np.random.randint(low=-5, high=15, size=25)\n",
    "z\n",
    "\n",
    "sm = softmax(z)\n",
    "print(sm)\n",
    "print(np.sum(sm))"
   ]
  },
  {
   "cell_type": "code",
   "execution_count": 4,
   "metadata": {},
   "outputs": [
    {
     "data": {
      "image/png": "[encoded data removed]",
      "text/plain": [
       "<Figure size 640x480 with 1 Axes>"
      ]
     },
     "metadata": {},
     "output_type": "display_data"
    }
   ],
   "source": [
    "plt.plot(z, sm, \"ko\")\n",
    "plt.xlabel(\"z\")\n",
    "plt.ylabel(\"softmax(z) $\\\\sigma$\")\n",
    "# plt.yscale(\"log\")\n",
    "plt.title(\"$\\\\sum\\\\sigma$ = %g\" %np.sum(sm))\n",
    "plt.show()"
   ]
  },
  {
   "cell_type": "code",
   "execution_count": 5,
   "metadata": {},
   "outputs": [
    {
     "name": "stdout",
     "output_type": "stream",
     "text": [
      "tensor([2.8127e-03, 7.6458e-03, 2.5649e-06, 4.6977e-08, 1.5357e-01, 1.2770e-07,\n",
      "        1.5357e-01, 2.0783e-02, 6.3577e-09, 5.6495e-02, 1.5357e-01, 1.2770e-07,\n",
      "        2.8127e-03, 2.8127e-03, 6.3577e-09, 1.8952e-05, 4.1745e-01, 1.8952e-05,\n",
      "        2.5649e-06, 6.9721e-06, 7.6458e-03, 2.3389e-09, 6.3577e-09, 2.0783e-02,\n",
      "        2.5649e-06])\n",
      "tensor(1.)\n"
     ]
    }
   ],
   "source": [
    "softfun = nn.Softmax(dim=0)\n",
    "sigma = softfun(torch.Tensor(z))\n",
    "\n",
    "print(sigma)\n",
    "print(torch.sum(sigma))"
   ]
  },
  {
   "cell_type": "code",
   "execution_count": 24,
   "metadata": {},
   "outputs": [
    {
     "name": "stdout",
     "output_type": "stream",
     "text": [
      "0.16770053683981004\n",
      "1.3862943611198906\n"
     ]
    }
   ],
   "source": [
    "# Entropy\n",
    "\n",
    "p = np.array([0.01, 0.01, 0.01, 0.97])\n",
    "\n",
    "H = -np.sum(p * np.log(p))\n",
    "print(H)\n",
    "\n",
    "\n",
    "# Cross-entropy\n",
    "\n",
    "p = np.array([1, 0])\n",
    "q = np.array([0.25, 0.75])\n",
    "\n",
    "H = -np.sum(p * np.log(q))\n",
    "print(H)"
   ]
  },
  {
   "cell_type": "code",
   "execution_count": 7,
   "metadata": {},
   "outputs": [
    {
     "name": "stdout",
     "output_type": "stream",
     "text": [
      "tensor(1.3863)\n"
     ]
    }
   ],
   "source": [
    "# Cross-entropy with PyTorch\n",
    "import torch.nn.functional as F\n",
    "\n",
    "q_tensor = torch.Tensor(q)\n",
    "p_tensor = torch.Tensor(p)\n",
    "\n",
    "H = F.binary_cross_entropy(q_tensor, p_tensor)\n",
    "print(H)"
   ]
  },
  {
   "cell_type": "code",
   "execution_count": 8,
   "metadata": {},
   "outputs": [
    {
     "name": "stdout",
     "output_type": "stream",
     "text": [
      "[ 6  9  1 -3 14  8  6] \n",
      "\n",
      "min = -3\n",
      "max = 14\n",
      "argmin = 3\n",
      "argmax = 4 \n",
      "\n",
      "[[ 2 -2  7  3]\n",
      " [-3 -2  8 -2]\n",
      " [ 1 -3 -5 10]] \n",
      "\n",
      "min = -5\n",
      "max = 10\n",
      "argmin = 10\n",
      "argmax = 11 \n",
      "\n",
      "min(axis=0) = [-3 -3 -5 -2]\n",
      "max(axis=0) = [ 2 -2  8 10]\n",
      "argmin(axis=0) = [1 2 2 1]\n",
      "argmax(axis=0) = [0 0 1 2] \n",
      "\n",
      "min(axis=1) = [-2 -3 -5]\n",
      "max(axis=1) = [ 7  8 10]\n",
      "argmin(axis=1) = [1 0 2]\n",
      "argmax(axis=1) = [2 2 3]\n"
     ]
    }
   ],
   "source": [
    "# min, max, argmin, argmax\n",
    "\n",
    "v = np.random.randint(low=-5, high=15, size=7)\n",
    "print(v, \"\\n\")\n",
    "\n",
    "print(\"min =\", np.min(v))\n",
    "print(\"max =\", np.max(v))\n",
    "print(\"argmin =\", np.argmin(v))\n",
    "print(\"argmax =\", np.argmax(v), \"\\n\")\n",
    "\n",
    "# matrices\n",
    "\n",
    "A = np.random.randint(low=-5, high=15, size=(3, 4))\n",
    "print(A, \"\\n\")\n",
    "\n",
    "print(\"min =\", np.min(A))\n",
    "print(\"max =\", np.max(A))\n",
    "print(\"argmin =\", np.argmin(A))\n",
    "print(\"argmax =\", np.argmax(A), \"\\n\")\n",
    "\n",
    "print(\"min(axis=0) =\", np.min(A, axis=0))\n",
    "print(\"max(axis=0) =\", np.max(A, axis=0))\n",
    "print(\"argmin(axis=0) =\", np.argmin(A, axis=0))\n",
    "print(\"argmax(axis=0) =\", np.argmax(A, axis=0), \"\\n\")\n",
    "\n",
    "print(\"min(axis=1) =\", np.min(A, axis=1))\n",
    "print(\"max(axis=1) =\", np.max(A, axis=1))\n",
    "print(\"argmin(axis=1) =\", np.argmin(A, axis=1))\n",
    "print(\"argmax(axis=1) =\", np.argmax(A, axis=1))\n"
   ]
  },
  {
   "cell_type": "code",
   "execution_count": 9,
   "metadata": {},
   "outputs": [
    {
     "name": "stdout",
     "output_type": "stream",
     "text": [
      "tensor([ 6.,  9.,  1., -3., 14.,  8.,  6.]) \n",
      "\n",
      "min = tensor(-3.)\n",
      "max = tensor(14.)\n",
      "argmin = tensor(3)\n",
      "argmax = tensor(4) \n",
      "\n",
      "tensor([[ 2., -2.,  7.,  3.],\n",
      "        [-3., -2.,  8., -2.],\n",
      "        [ 1., -3., -5., 10.]]) \n",
      "\n",
      "min = tensor(-5.)\n",
      "max = tensor(10.)\n",
      "argmin = tensor(10)\n",
      "argmax = tensor(11) \n",
      "\n",
      "min(axis=0) = torch.return_types.min(\n",
      "values=tensor([-3., -3., -5., -2.]),\n",
      "indices=tensor([1, 2, 2, 1]))\n",
      "max(axis=0) = torch.return_types.max(\n",
      "values=tensor([ 2., -2.,  8., 10.]),\n",
      "indices=tensor([0, 0, 1, 2]))\n",
      "argmin(axis=0) = tensor([1, 2, 2, 1])\n",
      "argmax(axis=0) = tensor([0, 0, 1, 2]) \n",
      "\n",
      "min(axis=1) = torch.return_types.min(\n",
      "values=tensor([-2., -3., -5.]),\n",
      "indices=tensor([1, 0, 2]))\n",
      "max(axis=1) = torch.return_types.max(\n",
      "values=tensor([ 7.,  8., 10.]),\n",
      "indices=tensor([2, 2, 3]))\n",
      "argmin(axis=1) = tensor([1, 0, 2])\n",
      "argmax(axis=1) = tensor([2, 2, 3])\n"
     ]
    }
   ],
   "source": [
    "# min, max, argmin, argmax with PyTorch\n",
    "\n",
    "v = torch.Tensor(v)\n",
    "print(v, \"\\n\")\n",
    "\n",
    "print(\"min =\", torch.min(v))\n",
    "print(\"max =\", torch.max(v))\n",
    "print(\"argmin =\", torch.argmin(v))\n",
    "print(\"argmax =\", torch.argmax(v), \"\\n\")\n",
    "\n",
    "A = torch.Tensor(A)\n",
    "print(A, \"\\n\")\n",
    "\n",
    "print(\"min =\", torch.min(A))\n",
    "print(\"max =\", torch.max(A))\n",
    "print(\"argmin =\", torch.argmin(A))\n",
    "print(\"argmax =\", torch.argmax(A), \"\\n\")\n",
    "\n",
    "print(\"min(axis=0) =\", torch.min(A, dim=0))\n",
    "print(\"max(axis=0) =\", torch.max(A, dim=0))\n",
    "print(\"argmin(axis=0) =\", torch.argmin(A, dim=0))\n",
    "print(\"argmax(axis=0) =\", torch.argmax(A, dim=0), \"\\n\")\n",
    "\n",
    "print(\"min(axis=1) =\", torch.min(A, dim=1))\n",
    "print(\"max(axis=1) =\", torch.max(A, dim=1))\n",
    "print(\"argmin(axis=1) =\", torch.argmin(A, dim=1))\n",
    "print(\"argmax(axis=1) =\", torch.argmax(A, dim=1))"
   ]
  },
  {
   "cell_type": "code",
   "execution_count": 10,
   "metadata": {},
   "outputs": [
    {
     "name": "stdout",
     "output_type": "stream",
     "text": [
      "[ 2 12 13  0 -4 -5  6] \n",
      "\n",
      "variance_1 = 44.53061224489795\n",
      "variance_2 = 44.53061224489795\n",
      "std deviation = 6.673126122358092\n"
     ]
    }
   ],
   "source": [
    "# variance\n",
    "\n",
    "v = np.random.randint(low=-5, high=15, size=7)\n",
    "print(v, \"\\n\")\n",
    "\n",
    "ddof = 0\n",
    "mean = np.mean(v)\n",
    "variance_1 = (1 / (len(v) - ddof)) * np.sum((v - mean) ** 2)\n",
    "variance_2 = np.var(v, ddof=ddof)\n",
    "\n",
    "print(\"variance_1 =\", variance_1)\n",
    "print(\"variance_2 =\", variance_2)\n",
    "print(\"std deviation =\", np.std(v, ddof=ddof))"
   ]
  }
 ],
 "metadata": {
  "kernelspec": {
   "display_name": "venv",
   "language": "python",
   "name": "python3"
  },
  "language_info": {
   "codemirror_mode": {
    "name": "ipython",
    "version": 3
   },
   "file_extension": ".py",
   "mimetype": "text/x-python",
   "name": "python",
   "nbconvert_exporter": "python",
   "pygments_lexer": "ipython3",
   "version": "3.12.7"
  }
 },
 "nbformat": 4,
 "nbformat_minor": 2
}
