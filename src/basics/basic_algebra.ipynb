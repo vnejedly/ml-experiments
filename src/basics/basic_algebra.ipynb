{
 "cells": [
  {
   "cell_type": "code",
   "execution_count": 8,
   "metadata": {},
   "outputs": [
    {
     "name": "stdout",
     "output_type": "stream",
     "text": [
      "[[1 2 3]\n",
      " [4 5 6]] \n",
      "\n",
      "[[1 4]\n",
      " [2 5]\n",
      " [3 6]]\n"
     ]
    }
   ],
   "source": [
    "import numpy as np\n",
    "import torch\n",
    "\n",
    "nv = np.array([\n",
    "    [1, 2, 3], \n",
    "    [4, 5, 6],\n",
    "])\n",
    "\n",
    "print(nv, \"\\n\")\n",
    "print(nv.T)"
   ]
  },
  {
   "cell_type": "code",
   "execution_count": 9,
   "metadata": {},
   "outputs": [
    {
     "name": "stdout",
     "output_type": "stream",
     "text": [
      "tensor([[1, 4],\n",
      "        [2, 5],\n",
      "        [3, 6]]) \n",
      "\n",
      "tensor([[-3,  2,  7]]) \n",
      "\n"
     ]
    }
   ],
   "source": [
    "tv_a = torch.tensor(nv)\n",
    "print(tv_a.T, \"\\n\")\n",
    "\n",
    "tv_b = torch.tensor([[-3], [2], [7]])\n",
    "print(tv_b.T, \"\\n\")"
   ]
  },
  {
   "cell_type": "code",
   "execution_count": 10,
   "metadata": {},
   "outputs": [
    {
     "name": "stdout",
     "output_type": "stream",
     "text": [
      "[[ 0.14488636  0.0625     -0.02556818]\n",
      " [ 0.26420455 -0.0625      0.07102273]\n",
      " [-0.03693182  0.0625      0.06534091]] \n",
      "\n",
      "tensor([[ 0.1449,  0.0625, -0.0256],\n",
      "        [ 0.2642, -0.0625,  0.0710],\n",
      "        [-0.0369,  0.0625,  0.0653]], device='cuda:0') \n",
      "\n",
      "tensor([[1., 0., 0.],\n",
      "        [0., 1., 0.],\n",
      "        [0., 0., 1.]], device='cuda:0') \n",
      "\n",
      "tensor([[1., 0., 0.],\n",
      "        [0., 1., 0.],\n",
      "        [0., 0., 1.]], device='cuda:0') \n",
      "\n"
     ]
    }
   ],
   "source": [
    "square_matrix_np = np.array([\n",
    "    [ 3,  2, -1],\n",
    "    [ 7, -3,  6],\n",
    "    [-5,  4,  9],\n",
    "])\n",
    "\n",
    "print(np.linalg.inv(square_matrix_np), \"\\n\")\n",
    "\n",
    "torch.set_default_dtype(torch.float32)\n",
    "\n",
    "square_matrix_t = torch.tensor([\n",
    "    [ 3.0,  2.0, -1.0],\n",
    "    [ 7.0, -3.0,  6.0],\n",
    "    [-5.0,  4.0,  9.0],\n",
    "]).to('cuda')\n",
    "\n",
    "# Inverse of a matrix\n",
    "print(square_matrix_t.inverse(), \"\\n\")\n",
    "\n",
    "unit_matrix_t = torch.eye(3).to('cuda')\n",
    "print(unit_matrix_t, \"\\n\")\n",
    "\n",
    "test_matrix_t = torch.mm(square_matrix_t, square_matrix_t.inverse())\n",
    "print(torch.round(test_matrix_t), \"\\n\")\n"
   ]
  },
  {
   "cell_type": "code",
   "execution_count": 11,
   "metadata": {},
   "outputs": [
    {
     "name": "stdout",
     "output_type": "stream",
     "text": [
      "[[ 7 16 27]\n",
      " [40 55 72]] \n",
      "\n",
      "tensor([[ 7, 16, 27],\n",
      "        [40, 55, 72]]) \n",
      "\n",
      "[[ 50  68]\n",
      " [122 167]] \n",
      "\n",
      "[[ 50  68]\n",
      " [122 167]] \n",
      "\n",
      "[[ 50  68]\n",
      " [122 167]] \n",
      "\n",
      "tensor([[ 50,  68],\n",
      "        [122, 167]]) \n",
      "\n",
      "tensor([[ 50,  68],\n",
      "        [122, 167]]) \n",
      "\n"
     ]
    }
   ],
   "source": [
    "nv_a = np.array([\n",
    "    [1, 2, 3], \n",
    "    [4, 5, 6],\n",
    "])\n",
    "\n",
    "nv_b = np.array([\n",
    "    [7, 8, 9], \n",
    "    [10, 11, 12],\n",
    "])\n",
    "\n",
    "tv_a = torch.tensor(nv_a)\n",
    "tv_b = torch.tensor(nv_b)\n",
    "\n",
    "# Element-wise multiplication\n",
    "print(nv_a * nv_b, \"\\n\")\n",
    "print(tv_a * tv_b, \"\\n\")\n",
    "\n",
    "# Matrix multiplication numpy\n",
    "print(np.dot(nv_a, nv_b.T), \"\\n\")\n",
    "print(np.matmul(nv_a, nv_b.T), \"\\n\")\n",
    "print(nv_a @ nv_b.T, \"\\n\")\n",
    "\n",
    "# Matrix multiplication torch\n",
    "print(torch.matmul(tv_a, tv_b.T), \"\\n\")\n",
    "print(tv_a @ tv_b.T, \"\\n\")"
   ]
  },
  {
   "cell_type": "code",
   "execution_count": 12,
   "metadata": {},
   "outputs": [],
   "source": [
    "device = 'cuda'\n",
    "inner_length = 4000\n",
    "outer_length = 6000\n",
    "\n",
    "An = np.round(np.random.randn(outer_length, inner_length), 2)\n",
    "At = torch.tensor(An).to(device=device)\n",
    "\n",
    "Bn = np.round(np.random.randn(inner_length, outer_length), 2)\n",
    "Bt = torch.tensor(Bn).to(device=device)"
   ]
  },
  {
   "cell_type": "code",
   "execution_count": 13,
   "metadata": {},
   "outputs": [],
   "source": [
    "Ct = At @ Bt"
   ]
  },
  {
   "cell_type": "code",
   "execution_count": 15,
   "metadata": {},
   "outputs": [
    {
     "name": "stdout",
     "output_type": "stream",
     "text": [
      "CPU execution time: 2.30125189 seconds\n",
      "GPU execution time: 0.09723687 seconds\n",
      "Speedup: 23.67x\n"
     ]
    }
   ],
   "source": [
    "import torch\n",
    "import time\n",
    "\n",
    "# Create large matrices\n",
    "matrix_a = torch.randn(6000, 4000)\n",
    "matrix_b = torch.randn(4000, 6000)\n",
    "\n",
    "# Measure CPU time\n",
    "start_time_cpu = time.time()\n",
    "result_cpu = matrix_a @ matrix_b\n",
    "end_time_cpu = time.time()\n",
    "execution_time_cpu = end_time_cpu - start_time_cpu\n",
    "print(f\"CPU execution time: {execution_time_cpu:.8f} seconds\")\n",
    "\n",
    "# Move matrices to GPU\n",
    "matrix_a_gpu = matrix_a.to('cuda')\n",
    "matrix_b_gpu = matrix_b.to('cuda')\n",
    "\n",
    "# Warm up GPU (optional, to avoid cold start overhead)\n",
    "_ = matrix_a_gpu @ matrix_b_gpu\n",
    "\n",
    "# Measure GPU time\n",
    "torch.cuda.synchronize()  # Ensure all operations are complete\n",
    "start_time_gpu = time.time()\n",
    "result_gpu = matrix_a_gpu @ matrix_b_gpu\n",
    "torch.cuda.synchronize()  # Ensure all operations are complete\n",
    "end_time_gpu = time.time()\n",
    "execution_time_gpu = end_time_gpu - start_time_gpu\n",
    "print(f\"GPU execution time: {execution_time_gpu:.8f} seconds\")\n",
    "print(f\"Speedup: {execution_time_cpu / execution_time_gpu:.2f}x\")"
   ]
  }
 ],
 "metadata": {
  "kernelspec": {
   "display_name": "venv",
   "language": "python",
   "name": "python3"
  },
  "language_info": {
   "codemirror_mode": {
    "name": "ipython",
    "version": 3
   },
   "file_extension": ".py",
   "mimetype": "text/x-python",
   "name": "python",
   "nbconvert_exporter": "python",
   "pygments_lexer": "ipython3",
   "version": "3.12.7"
  }
 },
 "nbformat": 4,
 "nbformat_minor": 2
}
