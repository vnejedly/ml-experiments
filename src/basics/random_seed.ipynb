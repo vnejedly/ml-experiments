{
 "cells": [
  {
   "cell_type": "code",
   "execution_count": 170,
   "metadata": {},
   "outputs": [],
   "source": [
    "import numpy as np"
   ]
  },
  {
   "cell_type": "code",
   "execution_count": 171,
   "metadata": {},
   "outputs": [
    {
     "name": "stdout",
     "output_type": "stream",
     "text": [
      "[ 0.27626589 -1.85462808  0.62390111  1.14531129  1.03719047]\n",
      "[ 1.88663893 -0.11169829 -0.36210134  0.14867505 -0.43778315]\n"
     ]
    }
   ],
   "source": [
    "# numpy can be seeded either on global level...\n",
    "\n",
    "np.random.seed(17)\n",
    "print(np.random.randn(5))\n",
    "print(np.random.randn(5))"
   ]
  },
  {
   "cell_type": "code",
   "execution_count": 172,
   "metadata": {},
   "outputs": [
    {
     "name": "stdout",
     "output_type": "stream",
     "text": [
      "[0.294665   0.53058676 0.19152079 0.06790036 0.78698546]\n",
      "[0.13128311 0.40968431 0.53891849 0.61951919 0.65726249]\n",
      "[0.65633352 0.6375209  0.57560289 0.03906292 0.3578136 ]\n",
      "[0.67593914 0.92015352 0.01978739 0.00161252 0.49311545]\n",
      "[0.55175137 0.59751325 0.48352862 0.28298816 0.29772572]\n"
     ]
    }
   ],
   "source": [
    "# ... or on the level of an object\n",
    "\n",
    "reandseed1 = np.random.RandomState(17)\n",
    "reandseed2 = np.random.RandomState(20210530)\n",
    "\n",
    "print(reandseed1.rand(5))\n",
    "print(reandseed2.rand(5))\n",
    "print(reandseed1.rand(5))\n",
    "print(reandseed2.rand(5))\n",
    "print(np.random.rand(5)) # the only output which changes every time the cell is run\n",
    "# however, the global seed from the first cell is still in effect"
   ]
  },
  {
   "cell_type": "code",
   "execution_count": 173,
   "metadata": {},
   "outputs": [
    {
     "name": "stdout",
     "output_type": "stream",
     "text": [
      "tensor([0.4342, 0.5351, 0.8302, 0.1239, 0.0293])\n",
      "tensor([0.5494, 0.3825, 0.5463, 0.4683, 0.0172])\n",
      "[0.56150891 0.39604744 0.78870071 0.41848439 0.14390392]\n"
     ]
    }
   ],
   "source": [
    "# PyTorch\n",
    "import torch\n",
    "\n",
    "# PyTorch can be seeded only on the global level\n",
    "torch.manual_seed(17)\n",
    "print(torch.rand(5))\n",
    "print(torch.rand(5))\n",
    "\n",
    "# PyTorch seed does not spread to numpy\n",
    "print(np.random.rand(5))"
   ]
  }
 ],
 "metadata": {
  "kernelspec": {
   "display_name": "venv",
   "language": "python",
   "name": "python3"
  },
  "language_info": {
   "codemirror_mode": {
    "name": "ipython",
    "version": 3
   },
   "file_extension": ".py",
   "mimetype": "text/x-python",
   "name": "python",
   "nbconvert_exporter": "python",
   "pygments_lexer": "ipython3",
   "version": "3.12.7"
  }
 },
 "nbformat": 4,
 "nbformat_minor": 2
}
